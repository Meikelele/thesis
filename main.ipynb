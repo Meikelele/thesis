{
 "cells": [
  {
   "cell_type": "markdown",
   "metadata": {},
   "source": [
    "# Nagłówek 1-6\n",
    "\n",
    "\n",
    "**Pogrubiony tekst**\n",
    "*Tekst kursywą*\n",
    "~~Przekreślony tekst~~\n",
    "***pogrubiona kursywa***\n",
    "\n",
    "> To jest cytat.\n",
    ">> Cytat zagnieżdżony.\n",
    "\n",
    "| Kolumna 1 | Kolumna 2 | Kolumna 3 |\n",
    "|-----------|-----------|-----------|\n",
    "| Wartość 1 | Wartość 2 | Wartość 3 |\n",
    "| Wartość 4 | Wartość 5 | Wartość 6 |\n",
    "\n",
    "\n"
   ]
  },
  {
   "cell_type": "markdown",
   "metadata": {},
   "source": [
    "# Wstępne przetwarzanie danych\n"
   ]
  },
  {
   "cell_type": "markdown",
   "metadata": {},
   "source": [
    "### Wczytanie danych i informacje o nich"
   ]
  },
  {
   "cell_type": "code",
   "execution_count": null,
   "metadata": {},
   "outputs": [
    {
     "name": "stdout",
     "output_type": "stream",
     "text": [
      "<class 'pandas.core.frame.DataFrame'>\n",
      "RangeIndex: 1385 entries, 0 to 1384\n",
      "Data columns (total 29 columns):\n",
      " #   Column                            Non-Null Count  Dtype  \n",
      "---  ------                            --------------  -----  \n",
      " 0   Age                               1385 non-null   int64  \n",
      " 1   Gender                            1385 non-null   int64  \n",
      " 2   BMI                               1385 non-null   int64  \n",
      " 3   Fever                             1385 non-null   int64  \n",
      " 4   Nausea/Vomting                    1385 non-null   int64  \n",
      " 5   Headache                          1385 non-null   int64  \n",
      " 6   Diarrhea                          1385 non-null   int64  \n",
      " 7   Fatigue & generalized bone ache   1385 non-null   int64  \n",
      " 8   Jaundice                          1385 non-null   int64  \n",
      " 9   Epigastric pain                   1385 non-null   int64  \n",
      " 10  WBC                               1385 non-null   int64  \n",
      " 11  RBC                               1385 non-null   float64\n",
      " 12  HGB                               1385 non-null   int64  \n",
      " 13  Plat                              1385 non-null   float64\n",
      " 14  AST 1                             1385 non-null   int64  \n",
      " 15  ALT 1                             1385 non-null   int64  \n",
      " 16  ALT4                              1385 non-null   float64\n",
      " 17  ALT 12                            1385 non-null   int64  \n",
      " 18  ALT 24                            1385 non-null   int64  \n",
      " 19  ALT 36                            1385 non-null   int64  \n",
      " 20  ALT 48                            1385 non-null   int64  \n",
      " 21  ALT after 24 w                    1385 non-null   int64  \n",
      " 22  RNA Base                          1385 non-null   int64  \n",
      " 23  RNA 4                             1385 non-null   int64  \n",
      " 24  RNA 12                            1385 non-null   int64  \n",
      " 25  RNA EOT                           1385 non-null   int64  \n",
      " 26  RNA EF                            1385 non-null   int64  \n",
      " 27  Baseline histological Grading     1385 non-null   int64  \n",
      " 28  Baselinehistological staging      1385 non-null   int64  \n",
      "dtypes: float64(3), int64(26)\n",
      "memory usage: 313.9 KB\n",
      "None\n",
      "Age                                 0\n",
      "Gender                              0\n",
      "BMI                                 0\n",
      "Fever                               0\n",
      "Nausea/Vomting                      0\n",
      "Headache                            0\n",
      "Diarrhea                            0\n",
      "Fatigue & generalized bone ache     0\n",
      "Jaundice                            0\n",
      "Epigastric pain                     0\n",
      "WBC                                 0\n",
      "RBC                                 0\n",
      "HGB                                 0\n",
      "Plat                                0\n",
      "AST 1                               0\n",
      "ALT 1                               0\n",
      "ALT4                                0\n",
      "ALT 12                              0\n",
      "ALT 24                              0\n",
      "ALT 36                              0\n",
      "ALT 48                              0\n",
      "ALT after 24 w                      0\n",
      "RNA Base                            0\n",
      "RNA 4                               0\n",
      "RNA 12                              0\n",
      "RNA EOT                             0\n",
      "RNA EF                              0\n",
      "Baseline histological Grading       0\n",
      "Baselinehistological staging        0\n",
      "dtype: int64\n"
     ]
    }
   ],
   "source": [
    "import pandas as pd\n",
    "data = pd.read_csv('data/HCV-Egy-Data.csv')\n",
    "    # 1385 rows x 29 columns\n",
    "    # RBC, PLAT, AL4 - format jako float64\n",
    "    # reszta jako int64\n",
    "\n",
    "print(data.info())\n",
    "print(data.describe())\n",
    "print(data.isnull().sum())"
   ]
  },
  {
   "cell_type": "code",
   "execution_count": null,
   "metadata": {},
   "outputs": [
    {
     "name": "stdout",
     "output_type": "stream",
     "text": [
      "/Users/michaelbak/Desktop/UNIVERSITY/niby_inzynier/theasis/thesis/.venv/bin/python\n"
     ]
    }
   ],
   "source": []
  }
 ],
 "metadata": {
  "kernelspec": {
   "display_name": ".venv",
   "language": "python",
   "name": "python3"
  },
  "language_info": {
   "codemirror_mode": {
    "name": "ipython",
    "version": 3
   },
   "file_extension": ".py",
   "mimetype": "text/x-python",
   "name": "python",
   "nbconvert_exporter": "python",
   "pygments_lexer": "ipython3",
   "version": "3.12.3"
  }
 },
 "nbformat": 4,
 "nbformat_minor": 2
}
